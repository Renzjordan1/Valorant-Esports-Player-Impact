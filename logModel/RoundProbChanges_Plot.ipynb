{
 "cells": [
  {
   "cell_type": "code",
   "execution_count": 1,
   "metadata": {},
   "outputs": [],
   "source": [
    "from matplotlib.axis import YAxis\n",
    "import pandas as pd\n",
    "from sklearn.feature_selection import RFE\n",
    "from sklearn.linear_model import LogisticRegression\n",
    "from sklearn.model_selection import train_test_split\n",
    "from sklearn import metrics\n",
    "import numpy as np\n",
    "import matplotlib.pyplot as plt\n",
    "import math\n",
    "import json"
   ]
  },
  {
   "cell_type": "code",
   "execution_count": 2,
   "metadata": {},
   "outputs": [],
   "source": [
    "#Import Scraped rib.gg Data\n",
    "df = pd.read_csv(\"../Amer-VCT-Spring2023/data/EventEssentials+Players.csv\")"
   ]
  },
  {
   "cell_type": "code",
   "execution_count": 3,
   "metadata": {},
   "outputs": [],
   "source": [
    "#Set Attack Team Win as target variable\n",
    "df['ATKWin'] = 0\n",
    "for i in range(0, len(df)):\n",
    "\n",
    "    if(df.loc[i, 'attackingTeamNumber'] == df.loc[i, 'winningTeamNumber']):\n",
    "        df.loc[i, 'ATKWin'] = 1"
   ]
  },
  {
   "cell_type": "code",
   "execution_count": 4,
   "metadata": {},
   "outputs": [],
   "source": [
    "#Seperate Independent and Dependent Variables\n",
    "indVars = df.drop(columns=['roundId_x', 'attackingTeamNumber', 'winningTeamNumber','ATKWin', 'playerId', 'assistants', 'victimId'])\n",
    "depVar = df[['matchId_y', 'ATKWin']]"
   ]
  },
  {
   "cell_type": "code",
   "execution_count": 5,
   "metadata": {},
   "outputs": [],
   "source": [
    "start_test_matchId = 112510\n",
    "\n",
    "#Train on group stage\n",
    "X_train = indVars[indVars['matchId_y'] < start_test_matchId].drop(columns=['matchId_y'])\n",
    "Y_train = depVar[depVar['matchId_y'] < start_test_matchId].drop(columns=['matchId_y'])\n",
    "\n",
    "#Test on single match\n",
    "X_test = indVars[indVars['matchId_y'] == start_test_matchId].drop(columns=['matchId_y'])\n",
    "y_test = depVar[depVar['matchId_y'] == start_test_matchId].drop(columns=['matchId_y'])"
   ]
  },
  {
   "cell_type": "code",
   "execution_count": 6,
   "metadata": {},
   "outputs": [
    {
     "data": {
      "text/plain": [
       "LogisticRegression()"
      ]
     },
     "execution_count": 6,
     "metadata": {},
     "output_type": "execute_result"
    }
   ],
   "source": [
    "#do Logisistic Regression\n",
    "logreg = LogisticRegression()\n",
    "logreg.fit(X_train, Y_train.values.ravel())"
   ]
  },
  {
   "cell_type": "code",
   "execution_count": 7,
   "metadata": {},
   "outputs": [
    {
     "name": "stdout",
     "output_type": "stream",
     "text": [
      "      matchId_y  roundId_x  attackingTeamNumber  roundTime  ATKAlive  \\\n",
      "5237     112510    1759256                    2     100000         5   \n",
      "5238     112510    1759256                    2      80039         5   \n",
      "5239     112510    1759256                    2          0         5   \n",
      "5240     112510    1759256                    2      -7518         5   \n",
      "5241     112510    1759256                    2     -11745         5   \n",
      "...         ...        ...                  ...        ...       ...   \n",
      "5378     112510    1759273                    1      97589         4   \n",
      "5379     112510    1759273                    1      60606         3   \n",
      "5380     112510    1759273                    1      52250         2   \n",
      "5381     112510    1759273                    1      37558         1   \n",
      "5382     112510    1759273                    1      31625         0   \n",
      "\n",
      "      DEFAlive  ATKLoadoutValue  DEFLoadoutValue  winningTeamNumber  playerId  \\\n",
      "5237         5      3800.000000      3500.000000                  2       NaN   \n",
      "5238         4      4066.666667      2700.000000                  2    6038.0   \n",
      "5239         4      4066.666667      2700.000000                  2    6039.0   \n",
      "5240         3      4283.333333      2050.000000                  2    6038.0   \n",
      "5241         2      4600.000000      1100.000000                  2    6039.0   \n",
      "...        ...              ...              ...                ...       ...   \n",
      "5378         5     17400.000000     26483.333333                  2    6038.0   \n",
      "5379         5     13350.000000     27833.333333                  2    6038.0   \n",
      "5380         5      9050.000000     29266.666667                  2    6038.0   \n",
      "5381         5      4750.000000     30700.000000                  2      81.0   \n",
      "5382         5         0.000000     32283.333333                  2      81.0   \n",
      "\n",
      "     assistants  victimId  ATKWin  \n",
      "5237         []       NaN       1  \n",
      "5238         []    2752.0       1  \n",
      "5239         []       NaN       1  \n",
      "5240       [81]    3532.0       1  \n",
      "5241         []    4710.0       1  \n",
      "...         ...       ...     ...  \n",
      "5378     [6039]    3532.0       0  \n",
      "5379         []    4710.0       0  \n",
      "5380         []   21588.0       0  \n",
      "5381         []    2752.0       0  \n",
      "5382         []    6414.0       0  \n",
      "\n",
      "[146 rows x 13 columns]\n"
     ]
    }
   ],
   "source": [
    "#Team 1 vs Team 2 Match\n",
    "print(df[df['matchId_y'] == start_test_matchId])"
   ]
  },
  {
   "cell_type": "code",
   "execution_count": 8,
   "metadata": {},
   "outputs": [],
   "source": [
    "#Transform Bomb Time from (100000 to -450000) -> (0 to 1)\n",
    "def NormalizeData(data):\n",
    "    # return (data - np.max(data)) / (np.min(data) - np.max(data))\n",
    "    return (data - np.max(data)) / (-45000 - np.max(data))"
   ]
  },
  {
   "cell_type": "code",
   "execution_count": 9,
   "metadata": {},
   "outputs": [],
   "source": [
    "#Set X-axis for graph (round + event time)\n",
    "xAx = df[df['matchId_y'] == start_test_matchId]['roundId_x']-df[df['matchId_y'] == start_test_matchId]['roundId_x'][df[df['matchId_y'] == start_test_matchId].index[0]] +1 + NormalizeData(df[df['matchId_y'] == start_test_matchId]['roundTime'])\n"
   ]
  },
  {
   "cell_type": "code",
   "execution_count": 10,
   "metadata": {},
   "outputs": [],
   "source": [
    "#Find index of round 13 (halftime)\n",
    "halftime = xAx.loc[xAx==13].index[0] - xAx.loc[xAx==1].index[0]\n",
    "#print(xAx.head(60))"
   ]
  },
  {
   "cell_type": "code",
   "execution_count": 11,
   "metadata": {},
   "outputs": [
    {
     "name": "stdout",
     "output_type": "stream",
     "text": [
      "[[0.58837255 0.41162745]\n",
      " [0.51428617 0.48571383]\n",
      " [0.41394217 0.58605783]\n",
      " [0.3664445  0.6335555 ]\n",
      " [0.30888645 0.69111355]\n",
      " [0.35268096 0.64731904]\n",
      " [0.31594492 0.68405508]\n",
      " [0.29085389 0.70914611]\n",
      " [0.04966883 0.95033117]\n",
      " [0.11363837 0.88636163]\n",
      " [0.1021499  0.8978501 ]\n",
      " [0.1020808  0.8979192 ]\n",
      " [0.23385991 0.76614009]\n",
      " [0.21978748 0.78021252]\n",
      " [0.21854013 0.78145987]\n",
      " [0.1643226  0.8356774 ]\n",
      " [0.3387534  0.6612466 ]\n",
      " [0.59233959 0.40766041]\n",
      " [0.56284396 0.43715604]\n",
      " [0.79102606 0.20897394]\n",
      " [0.91660923 0.08339077]\n",
      " [0.94393293 0.05606707]\n",
      " [0.96221056 0.03778944]\n",
      " [0.98227244 0.01772756]\n",
      " [0.98881785 0.01118215]\n",
      " [0.53851698 0.46148302]\n",
      " [0.29458953 0.70541047]\n",
      " [0.11078308 0.88921692]\n",
      " [0.04241347 0.95758653]\n",
      " [0.03113703 0.96886297]\n",
      " [0.47911995 0.52088005]\n",
      " [0.7617655  0.2382345 ]\n",
      " [0.86258581 0.13741419]\n",
      " [0.95489322 0.04510678]\n",
      " [0.98615484 0.01384516]\n",
      " [0.96204613 0.03795387]\n",
      " [0.90041397 0.09958603]\n",
      " [0.89048817 0.10951183]\n",
      " [0.95966584 0.04033416]\n",
      " [0.95723997 0.04276003]\n",
      " [0.62268725 0.37731275]\n",
      " [0.37845647 0.62154353]\n",
      " [0.62680013 0.37319987]\n",
      " [0.35095011 0.64904989]\n",
      " [0.15854413 0.84145587]\n",
      " [0.34311052 0.65688948]\n",
      " [0.10538088 0.89461912]\n",
      " [0.0879575  0.9120425 ]\n",
      " [0.18587843 0.81412157]\n",
      " [0.59423774 0.40576226]\n",
      " [0.7861984  0.2138016 ]\n",
      " [0.61697183 0.38302817]\n",
      " [0.8068561  0.1931439 ]\n",
      " [0.48174609 0.51825391]\n",
      " [0.72862984 0.27137016]\n",
      " [0.48374177 0.51625823]\n",
      " [0.73497867 0.26502133]\n",
      " [0.44856325 0.55143675]\n",
      " [0.22454293 0.77545707]\n",
      " [0.37289908 0.62710092]\n",
      " [0.2639344  0.7360656 ]\n",
      " [0.11295652 0.88704348]\n",
      " [0.26993137 0.73006863]\n",
      " [0.12809251 0.87190749]\n",
      " [0.32387585 0.67612415]\n",
      " [0.1684725  0.8315275 ]\n",
      " [0.41478056 0.58521944]\n",
      " [0.66071152 0.33928848]\n",
      " [0.64658547 0.35341453]\n",
      " [0.42788133 0.57211867]\n",
      " [0.67113433 0.32886567]\n",
      " [0.83432681 0.16567319]\n",
      " [0.93218623 0.06781377]\n",
      " [0.69504047 0.30495953]\n",
      " [0.8387594  0.1612406 ]\n",
      " [0.66133447 0.33866553]\n",
      " [0.40595257 0.59404743]\n",
      " [0.19544069 0.80455931]\n",
      " [0.07737713 0.92262287]\n",
      " [0.02967428 0.97032572]\n",
      " [0.35527661 0.64472339]\n",
      " [0.62204562 0.37795438]\n",
      " [0.37645008 0.62354992]\n",
      " [0.17296668 0.82703332]\n",
      " [0.07268797 0.92731203]\n",
      " [0.05442876 0.94557124]\n",
      " [0.15158609 0.84841391]\n",
      " [0.38266895 0.61733105]\n",
      " [0.20756848 0.79243152]\n",
      " [0.51636508 0.48363492]\n",
      " [0.19128378 0.80871622]\n",
      " [0.31088299 0.68911701]\n",
      " [0.15296324 0.84703676]\n",
      " [0.07316104 0.92683896]\n",
      " [0.04825283 0.95174717]\n",
      " [0.13811885 0.86188115]\n",
      " [0.0494492  0.9505508 ]\n",
      " [0.01790301 0.98209699]\n",
      " [0.00595312 0.99404688]\n",
      " [0.56483293 0.43516707]\n",
      " [0.59048008 0.40951992]\n",
      " [0.48520544 0.51479456]\n",
      " [0.53581302 0.46418698]\n",
      " [0.57632458 0.42367542]\n",
      " [0.62499668 0.37500332]\n",
      " [0.62349224 0.37650776]\n",
      " [0.6805946  0.3194054 ]\n",
      " [0.67028171 0.32971829]\n",
      " [0.92324549 0.07675451]\n",
      " [0.93681372 0.06318628]\n",
      " [0.88885212 0.11114788]\n",
      " [0.90502721 0.09497279]\n",
      " [0.9206418  0.0793582 ]\n",
      " [0.82171637 0.17828363]\n",
      " [0.85004986 0.14995014]\n",
      " [0.87231905 0.12768095]\n",
      " [0.46220103 0.53779897]\n",
      " [0.69560116 0.30439884]\n",
      " [0.81784956 0.18215044]\n",
      " [0.73389296 0.26610704]\n",
      " [0.72994091 0.27005909]\n",
      " [0.87298542 0.12701458]\n",
      " [0.95164776 0.04835224]\n",
      " [0.89344982 0.10655018]\n",
      " [0.9545975  0.0454025 ]\n",
      " [0.95259568 0.04740432]\n",
      " [0.81774646 0.18225354]\n",
      " [0.52138431 0.47861569]\n",
      " [0.17168491 0.82831509]\n",
      " [0.12962536 0.87037464]\n",
      " [0.03887002 0.96112998]\n",
      " [0.64855707 0.35144293]\n",
      " [0.3480859  0.6519141 ]\n",
      " [0.64087901 0.35912099]\n",
      " [0.85243473 0.14756527]\n",
      " [0.63888489 0.36111511]\n",
      " [0.56467116 0.43532884]\n",
      " [0.78418346 0.21581654]\n",
      " [0.91559405 0.08440595]\n",
      " [0.9113399  0.0886601 ]\n",
      " [0.61101697 0.38898303]\n",
      " [0.84557891 0.15442109]\n",
      " [0.93011079 0.06988921]\n",
      " [0.9755796  0.0244204 ]\n",
      " [0.99146311 0.00853689]\n",
      " [0.9974919  0.0025081 ]]\n"
     ]
    }
   ],
   "source": [
    "#Get probability of [ATKWin=0, ATKWin=1]\n",
    "y_pred=logreg.predict_proba(X_test)\n",
    "print(y_pred)"
   ]
  },
  {
   "cell_type": "code",
   "execution_count": 12,
   "metadata": {},
   "outputs": [],
   "source": [
    "#Get probabilities for home team\n",
    "if(df[df['matchId_y'] == start_test_matchId].iloc[0]['attackingTeamNumber'] == 1):\n",
    "    firstHalf = [item[1] for item in y_pred[:halftime]]\n",
    "    secHalf = [item[0] for item in y_pred[halftime:]]\n",
    "\n",
    "else:\n",
    "    firstHalf = [item[0] for item in y_pred[:halftime]]\n",
    "    secHalf = [item[1] for item in y_pred[halftime:]]"
   ]
  },
  {
   "cell_type": "code",
   "execution_count": 13,
   "metadata": {},
   "outputs": [],
   "source": [
    "#Sey y-axis for graph\n",
    "yAx = firstHalf + secHalf\n",
    "#print(yAx)"
   ]
  },
  {
   "cell_type": "code",
   "execution_count": 14,
   "metadata": {},
   "outputs": [],
   "source": [
    "#Get final round number\n",
    "final = math.ceil(xAx.iloc[-1])"
   ]
  },
  {
   "cell_type": "code",
   "execution_count": 20,
   "metadata": {},
   "outputs": [
    {
     "name": "stdout",
     "output_type": "stream",
     "text": [
      "Leviatán\n",
      "FURIA\n"
     ]
    }
   ],
   "source": [
    "#Import match data (from rib.gg discord bot)\n",
    "matches = pd.read_csv(\"../Amer-VCT-Spring2023/data/AllMatches.csv\")\n",
    "\n",
    "#Get team names\n",
    "team1 = matches.loc[matches[\"Match Id\"] == start_test_matchId][\"Team 1 Name\"].iloc[0]\n",
    "team2 = matches.loc[matches[\"Match Id\"] == start_test_matchId][\"Team 2 Name\"].iloc[0]\n",
    "\n",
    "print(team1)\n",
    "print(team2)"
   ]
  },
  {
   "cell_type": "code",
   "execution_count": 27,
   "metadata": {},
   "outputs": [
    {
     "name": "stdout",
     "output_type": "stream",
     "text": [
      "Leviatán vs FURIA\n"
     ]
    },
    {
     "data": {
      "image/png": "[encoded data removed]",
      "text/plain": [
       "<Figure size 432x288 with 25 Axes>"
      ]
     },
     "metadata": {
      "needs_background": "light"
     },
     "output_type": "display_data"
    }
   ],
   "source": [
    "%matplotlib inline\n",
    "\n",
    "#Set up enough plots for each round\n",
    "figure, axis = plt.subplots(5, 5)\n",
    "\n",
    "# Plot x, y for each round graph\n",
    "round = 1\n",
    "for i in range(5):\n",
    "    for j in range(5):\n",
    "        \n",
    "        if(round!=final-1):\n",
    "            axis[i, j].plot(xAx.loc[xAx.loc[xAx==round].index[0]:xAx.loc[xAx==round+1].index[0]-1], yAx[xAx.loc[xAx==round].index[0]-xAx.loc[xAx==1].index[0]:xAx.loc[xAx==round+1].index[0]-xAx.loc[xAx==1].index[0]])\n",
    "            axis[i, j].set_title(\"Round \" + str(round))  \n",
    "            # axis[i, j].set_xticks(xAx.loc[xAx.loc[xAx==round].index[0]:xAx.loc[xAx==round+1].index[0]-1])\n",
    "        else:\n",
    "            axis[i, j].plot(xAx.loc[xAx.loc[xAx==round].index[0]:], yAx[xAx.loc[xAx==round].index[0]-xAx.loc[xAx==1].index[0]:])\n",
    "            axis[i, j].set_title(\"Round \" + str(round))\n",
    "            # axis[i, j].set_xticks(xAx.loc[xAx.loc[xAx==round].index[0]:])\n",
    "\n",
    "        # axis[i, j].ylim(0, 1) \n",
    "        axis[i, j].set_yticks(np.arange(0, 1, step=0.1)) \n",
    "        \n",
    "        round += 1 \n",
    "\n",
    "        if(round == final):\n",
    "            break\n",
    "\n",
    "    if(round == final):\n",
    "        break\n",
    "    \n",
    "# plt.plot(xAx, yAx)\n",
    "# plt.xlabel('Round')\n",
    "# plt.ylabel('Win Prob')\n",
    "# plt.title(team1 + \" vs \" + team2)\n",
    "\n",
    "print(team1 + \" vs \" + team2)\n",
    "plt.show()"
   ]
  },
  {
   "cell_type": "code",
   "execution_count": null,
   "metadata": {},
   "outputs": [],
   "source": []
  }
 ],
 "metadata": {
  "kernelspec": {
   "display_name": "Python 3 (ipykernel)",
   "language": "python",
   "name": "python3"
  },
  "language_info": {
   "codemirror_mode": {
    "name": "ipython",
    "version": 3
   },
   "file_extension": ".py",
   "mimetype": "text/x-python",
   "name": "python",
   "nbconvert_exporter": "python",
   "pygments_lexer": "ipython3",
   "version": "3.9.12"
  },
  "vscode": {
   "interpreter": {
    "hash": "4bda74b9d9e0e093a14b7393307e09b2a666b2076b3134b3699cee8adadb15fa"
   }
  }
 },
 "nbformat": 4,
 "nbformat_minor": 2
}
