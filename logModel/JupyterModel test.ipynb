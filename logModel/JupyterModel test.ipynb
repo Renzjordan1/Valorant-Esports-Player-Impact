{
 "cells": [
  {
   "cell_type": "code",
   "execution_count": 133,
   "metadata": {},
   "outputs": [],
   "source": [
    "from matplotlib.axis import YAxis\n",
    "import pandas as pd\n",
    "from sklearn.feature_selection import RFE\n",
    "from sklearn.linear_model import LogisticRegression\n",
    "from sklearn.model_selection import train_test_split\n",
    "from sklearn import metrics\n",
    "import numpy as np\n",
    "import matplotlib.pyplot as plt\n",
    "import math\n",
    "import json"
   ]
  },
  {
   "cell_type": "code",
   "execution_count": 134,
   "metadata": {},
   "outputs": [],
   "source": [
    "#Import rib.gg Data\n",
    "df = pd.read_csv(r\"C:\\Users\\Renzjordan\\OneDrive\\MiniProj\\VALImpact\\data\\VCT-NA-2022-Stage-2-Challengers-ImpactEssentialPlayerData.csv\")"
   ]
  },
  {
   "cell_type": "code",
   "execution_count": 135,
   "metadata": {},
   "outputs": [],
   "source": [
    "#Set Attack Team Win target variable\n",
    "df['ATKWin'] = 0\n",
    "for i in range(0, len(df)):\n",
    "\n",
    "    if(df.loc[i, 'attackingTeamNumber'] == df.loc[i, 'winningTeamNumber']):\n",
    "        df.loc[i, 'ATKWin'] = 1"
   ]
  },
  {
   "cell_type": "code",
   "execution_count": 136,
   "metadata": {},
   "outputs": [],
   "source": [
    "#Seperate Independent and Dependent Variables\n",
    "indVars = df.drop(columns=['roundId_x', 'attackingTeamNumber', 'winningTeamNumber','ATKWin', 'playerId', 'assistants', 'victimId'])\n",
    "depVar = df[['matchId_y', 'ATKWin']]"
   ]
  },
  {
   "cell_type": "code",
   "execution_count": 137,
   "metadata": {},
   "outputs": [],
   "source": [
    "#Train on group stage\n",
    "X_train = indVars[indVars['matchId_y'] < 71399].drop(columns=['matchId_y'])\n",
    "Y_train = depVar[depVar['matchId_y'] < 71399].drop(columns=['matchId_y'])\n",
    "\n",
    "X_test = indVars[indVars['matchId_y'] == 71399].drop(columns=['matchId_y'])\n",
    "y_test = depVar[depVar['matchId_y'] == 71399].drop(columns=['matchId_y'])"
   ]
  },
  {
   "cell_type": "code",
   "execution_count": 138,
   "metadata": {},
   "outputs": [
    {
     "data": {
      "text/plain": [
       "LogisticRegression()"
      ]
     },
     "execution_count": 138,
     "metadata": {},
     "output_type": "execute_result"
    }
   ],
   "source": [
    "#do Logisistic Regression\n",
    "logreg = LogisticRegression()\n",
    "\n",
    "logreg.fit(X_train, Y_train.values.ravel())"
   ]
  },
  {
   "cell_type": "code",
   "execution_count": 139,
   "metadata": {},
   "outputs": [
    {
     "name": "stdout",
     "output_type": "stream",
     "text": [
      "     matchId_y  roundId_x  attackingTeamNumber  roundTime  ATKAlive  DEFAlive  \\\n",
      "767      71399    1111222                    2     100000         5         5   \n",
      "768      71399    1111223                    2     100000         5         5   \n",
      "769      71399    1111224                    2     100000         5         5   \n",
      "770      71399    1111224                    2      38858         5         4   \n",
      "771      71399    1111224                    2      38658         5         3   \n",
      "..         ...        ...                  ...        ...       ...       ...   \n",
      "891      71399    1111238                    1     -23385         2         3   \n",
      "892      71399    1111238                    1     -23701         2         2   \n",
      "893      71399    1111238                    1     -23930         1         2   \n",
      "894      71399    1111238                    1     -23948         1         1   \n",
      "895      71399    1111238                    1     -35607         1         0   \n",
      "\n",
      "     ATKLoadoutValue  DEFLoadoutValue  winningTeamNumber  playerId  \\\n",
      "767         0.000000         0.000000                  1       NaN   \n",
      "768         0.000000         0.000000                  1       NaN   \n",
      "769     20450.000000     19450.000000                  2       NaN   \n",
      "770     21533.333333     16200.000000                  2     789.0   \n",
      "771     22633.333333     12900.000000                  2     789.0   \n",
      "..               ...              ...                ...       ...   \n",
      "891     11483.333333     14150.000000                  1    1994.0   \n",
      "892     12150.000000     12150.000000                  1    1802.0   \n",
      "893      7550.000000     13683.333333                  1    1994.0   \n",
      "894      8466.666667     10933.333333                  1    3346.0   \n",
      "895     10100.000000      6033.333333                  1    3346.0   \n",
      "\n",
      "       assistants  victimId  ATKWin  \n",
      "767            []       NaN       0  \n",
      "768            []       NaN       0  \n",
      "769            []       NaN       1  \n",
      "770            []    3346.0       1  \n",
      "771            []    3582.0       1  \n",
      "..            ...       ...     ...  \n",
      "891            []     494.0       1  \n",
      "892            []    1990.0       1  \n",
      "893  [1990, 1990]    1802.0       1  \n",
      "894        [1802]    1994.0       1  \n",
      "895            []     789.0       1  \n",
      "\n",
      "[129 rows x 13 columns]\n"
     ]
    }
   ],
   "source": [
    "#EG vs OPTC Ascent\n",
    "print(df[df['matchId_y'] == 71399])"
   ]
  },
  {
   "cell_type": "code",
   "execution_count": 140,
   "metadata": {},
   "outputs": [],
   "source": [
    "#Transform Bomb Time from (100000 to -450000) -> (0 to 1)\n",
    "def NormalizeData(data):\n",
    "    # return (data - np.max(data)) / (np.min(data) - np.max(data))\n",
    "    return (data - np.max(data)) / (-45000 - np.max(data))"
   ]
  },
  {
   "cell_type": "code",
   "execution_count": 141,
   "metadata": {},
   "outputs": [],
   "source": [
    "#Set X-axis for graph (round + event time)\n",
    "xAx = df[df['matchId_y'] == 71399]['roundId_x']-df[df['matchId_y'] == 71399]['roundId_x'][df[df['matchId_y'] == 71399].index[0]] +1 + NormalizeData(df[df['matchId_y'] == 71399]['roundTime'])\n"
   ]
  },
  {
   "cell_type": "code",
   "execution_count": 142,
   "metadata": {},
   "outputs": [],
   "source": [
    "#Find index of round 13\n",
    "halftime = xAx.loc[xAx==13].index[0] - xAx.loc[xAx==1].index[0]\n",
    "#print(xAx.head(60))\n"
   ]
  },
  {
   "cell_type": "code",
   "execution_count": 143,
   "metadata": {},
   "outputs": [
    {
     "name": "stdout",
     "output_type": "stream",
     "text": [
      "[[0.03951793 0.96048207]\n",
      " [0.14333688 0.85666312]\n",
      " [0.33745506 0.66254494]\n",
      " [0.13261658 0.86738342]\n",
      " [0.04835635 0.95164365]\n",
      " [0.04709969 0.95290031]]\n"
     ]
    }
   ],
   "source": [
    "#Get probability of [0, 1]\n",
    "y_pred=logreg.predict_proba(X_test)\n",
    "print((y_pred[56:62]))"
   ]
  },
  {
   "cell_type": "code",
   "execution_count": 144,
   "metadata": {},
   "outputs": [],
   "source": [
    "#Get probabilities for home team\n",
    "if(df[df['matchId_y'] == 71399].iloc[0]['attackingTeamNumber'] == 1):\n",
    "    firstHalf = [item[1] for item in y_pred[:halftime]]\n",
    "    secHalf = [item[0] for item in y_pred[halftime:]]\n",
    "else:\n",
    "    firstHalf = [item[0] for item in y_pred[:halftime]]\n",
    "    secHalf = [item[1] for item in y_pred[halftime:]]\n"
   ]
  },
  {
   "cell_type": "code",
   "execution_count": 145,
   "metadata": {},
   "outputs": [
    {
     "name": "stdout",
     "output_type": "stream",
     "text": [
      "129\n"
     ]
    }
   ],
   "source": [
    "#Sey y-axis for graph\n",
    "yAx = firstHalf + secHalf\n",
    "print(len(yAx))"
   ]
  },
  {
   "cell_type": "code",
   "execution_count": 146,
   "metadata": {},
   "outputs": [],
   "source": [
    "#Get final round number\n",
    "final = math.ceil(xAx.iloc[-1])"
   ]
  },
  {
   "cell_type": "code",
   "execution_count": 147,
   "metadata": {},
   "outputs": [
    {
     "data": {
      "image/png": "[encoded data removed]",
      "text/plain": [
       "<Figure size 432x288 with 25 Axes>"
      ]
     },
     "metadata": {
      "needs_background": "light"
     },
     "output_type": "display_data"
    }
   ],
   "source": [
    "%matplotlib inline\n",
    "\n",
    "#Set up enough plots for each round\n",
    "figure, axis = plt.subplots(5, 5)\n",
    "\n",
    "# Plot x, y for each round graph\n",
    "round = 1\n",
    "for i in range(5):\n",
    "    for j in range(5):\n",
    "        # print(xAx.loc[xAx==round].index[0])\n",
    "        # print(xAx.loc[xAx.loc[xAx==round].index[0]:xAx.loc[xAx==round+1].index[0]])\n",
    "        if(round!=final-1):\n",
    "            # if(i==3 and j==2):\n",
    "            #     print(xAx.loc[xAx.loc[xAx==round].index[0]:xAx.loc[xAx==round+1].index[0]-1])\n",
    "            #     print(yAx[xAx.loc[xAx==round].index[0]-xAx.loc[xAx==1].index[0]:xAx.loc[xAx==round+1].index[0]-xAx.loc[xAx==1].index[0]])\n",
    "            axis[i, j].plot(xAx.loc[xAx.loc[xAx==round].index[0]:xAx.loc[xAx==round+1].index[0]-1], yAx[xAx.loc[xAx==round].index[0]-xAx.loc[xAx==1].index[0]:xAx.loc[xAx==round+1].index[0]-xAx.loc[xAx==1].index[0]])\n",
    "            axis[i, j].set_title(\"Round \" + str(round))  \n",
    "            # axis[i, j].set_xticks(xAx.loc[xAx.loc[xAx==round].index[0]:xAx.loc[xAx==round+1].index[0]-1])\n",
    "        else:\n",
    "            axis[i, j].plot(xAx.loc[xAx.loc[xAx==round].index[0]:], yAx[xAx.loc[xAx==round].index[0]-xAx.loc[xAx==1].index[0]:])\n",
    "            axis[i, j].set_title(\"Round \" + str(round))\n",
    "            # axis[i, j].set_xticks(xAx.loc[xAx.loc[xAx==round].index[0]:])\n",
    "\n",
    "\n",
    "        # axis[i, j].ylim(0, 1) \n",
    "        axis[i, j].set_yticks(np.arange(0, 1, step=0.1)) \n",
    "        \n",
    "\n",
    "        round += 1  \n",
    "        if(round == final):\n",
    "            break\n",
    "    if(round == final):\n",
    "        break\n",
    "# plt.plot(xAx, yAx)\n",
    "# plt.xlabel('Round')\n",
    "# plt.ylabel('Win Prob')\n",
    "  \n",
    "# plt.title('EG vs OPTC')\n",
    "plt.show()"
   ]
  },
  {
   "cell_type": "code",
   "execution_count": 148,
   "metadata": {},
   "outputs": [],
   "source": [
    "#Import player data for each match\n",
    "playerData = pd.read_csv(r\"C:\\Users\\Renzjordan\\OneDrive\\MiniProj\\VALImpact\\data\\VCT-NA-2022-Stage-2-Challengers-PlayerData.csv\")\n",
    "\n",
    "#create impact df\n",
    "playerImpact = df[['matchId_y', 'roundId_x', 'attackingTeamNumber', 'playerId', 'assistants', 'victimId']]\n",
    "playerImpact = playerImpact[playerImpact['matchId_y'] == 71399]\n",
    "playerImpact['impact'] = 0"
   ]
  },
  {
   "cell_type": "code",
   "execution_count": 149,
   "metadata": {},
   "outputs": [],
   "source": [
    "#Calculate impact for each player\n",
    "for i in range(0, len(playerImpact)):\n",
    "    \n",
    "    matchId = playerImpact.loc[playerImpact.index[0]+i, 'matchId_y']\n",
    "    playerId = playerImpact.loc[playerImpact.index[0]+i, 'playerId'] \n",
    "\n",
    "    if(not math.isnan(playerId)):\n",
    "        # print(matchId, playerId)\n",
    "        # print(playerData[((playerData['matchId'] == matchId) & (playerData['playerId'] == playerId))]['teamNumber'].values)\n",
    "    \n",
    "        playerImpact.loc[playerImpact.index[0]+i, 'impact'] = abs(yAx[i]-yAx[i-1])\n",
    "    \n",
    "    else:\n",
    "        pass\n"
   ]
  },
  {
   "cell_type": "code",
   "execution_count": 150,
   "metadata": {},
   "outputs": [],
   "source": [
    "#Get player info\n",
    "playerNames = pd.read_csv(r\"C:\\Users\\Renzjordan\\OneDrive\\MiniProj\\VALImpact\\data\\VCTPlayers.csv\")"
   ]
  },
  {
   "cell_type": "code",
   "execution_count": 151,
   "metadata": {},
   "outputs": [
    {
     "name": "stdout",
     "output_type": "stream",
     "text": [
      "   victimId    impact\n",
      "0     369.0  1.580162\n",
      "1     494.0  1.346918\n",
      "2     789.0  1.864314\n",
      "3    1689.0  1.166405\n",
      "4    1802.0  1.463924\n",
      "5    1990.0  1.541178\n",
      "6    1994.0  1.282460\n",
      "7    3062.0  1.408743\n",
      "8    3346.0  1.468588\n",
      "9    3582.0  1.795441\n"
     ]
    }
   ],
   "source": [
    "#gVR = Victim impact by round, gVM = Victim impact by match\n",
    "gVR = playerImpact.groupby(['roundId_x', 'victimId'])['impact'].sum().reset_index()\n",
    "gVM = playerImpact.groupby(['victimId'])['impact'].sum().reset_index()\n",
    "\n",
    "print(gVM.head(10))"
   ]
  },
  {
   "cell_type": "code",
   "execution_count": 152,
   "metadata": {},
   "outputs": [],
   "source": [
    "#Getting impact for assistants + split individual impact\n",
    "playerImpact['impact_assist'] = 0\n",
    "for i in range(0, len(playerImpact)):\n",
    "    if(len(json.loads(playerImpact.loc[playerImpact.index[0] + i, 'assistants'])) > 0):\n",
    "        playerImpact.loc[playerImpact.index[0]+i,'impact_assist'] = playerImpact.loc[playerImpact.index[0] + i, 'impact'] * (0.25 / len(json.loads(playerImpact.loc[playerImpact.index[0] + i, 'assistants'])))\n",
    "        playerImpact.loc[playerImpact.index[0]+i,'impact'] -= playerImpact.loc[playerImpact.index[0] + i, 'impact'] * (0.25)\n",
    "\n"
   ]
  },
  {
   "cell_type": "code",
   "execution_count": 153,
   "metadata": {},
   "outputs": [
    {
     "name": "stdout",
     "output_type": "stream",
     "text": [
      "   matchId_y  roundId_x  attackingTeamNumber  playerId assistants  victimId  \\\n",
      "0      71399    1111224                    2      1994         []     494.0   \n",
      "\n",
      "     impact  \n",
      "0  0.015833  \n",
      "   matchId_y  roundId_x  attackingTeamNumber  playerId assistants  victimId  \\\n",
      "0      71399    1111224                    2       494         []    1990.0   \n",
      "\n",
      "     impact  \n",
      "0  0.020437  \n",
      "   matchId_y  roundId_x  attackingTeamNumber  playerId assistants  victimId  \\\n",
      "0      71399    1111225                    2      1990         []    3582.0   \n",
      "\n",
      "    impact  \n",
      "0  0.04032  \n",
      "   matchId_y  roundId_x  attackingTeamNumber  playerId assistants  victimId  \\\n",
      "0      71399    1111225                    2      1689         []    3582.0   \n",
      "\n",
      "    impact  \n",
      "0  0.04032  \n",
      "   matchId_y  roundId_x  attackingTeamNumber  playerId assistants  victimId  \\\n",
      "0      71399    1111225                    2       789         []    3062.0   \n",
      "\n",
      "     impact  \n",
      "0  0.063337  \n",
      "   matchId_y  roundId_x  attackingTeamNumber  playerId assistants  victimId  \\\n",
      "0      71399    1111225                    2       494         []     369.0   \n",
      "\n",
      "     impact  \n",
      "0  0.036594  \n",
      "   matchId_y  roundId_x  attackingTeamNumber  playerId assistants  victimId  \\\n",
      "0      71399    1111225                    2      3582         []     369.0   \n",
      "\n",
      "     impact  \n",
      "0  0.036594  \n",
      "   matchId_y  roundId_x  attackingTeamNumber  playerId assistants  victimId  \\\n",
      "0      71399    1111225                    2      1990         []    3346.0   \n",
      "\n",
      "     impact  \n",
      "0  0.010026  \n",
      "   matchId_y  roundId_x  attackingTeamNumber  playerId assistants  victimId  \\\n",
      "0      71399    1111225                    2       369         []    3346.0   \n",
      "\n",
      "     impact  \n",
      "0  0.010026  \n",
      "   matchId_y  roundId_x  attackingTeamNumber  playerId assistants  victimId  \\\n",
      "0      71399    1111225                    2      1689         []    3346.0   \n",
      "\n",
      "     impact  \n",
      "0  0.010026  \n",
      "   matchId_y  roundId_x  attackingTeamNumber  playerId assistants  victimId  \\\n",
      "0      71399    1111225                    2      1990         []    3346.0   \n",
      "\n",
      "     impact  \n",
      "0  0.010026  \n",
      "   matchId_y  roundId_x  attackingTeamNumber  playerId assistants  victimId  \\\n",
      "0      71399    1111225                    2      3346         []    1994.0   \n",
      "\n",
      "     impact  \n",
      "0  0.039185  \n",
      "   matchId_y  roundId_x  attackingTeamNumber  playerId assistants  victimId  \\\n",
      "0      71399    1111226                    2       494         []    1990.0   \n",
      "\n",
      "     impact  \n",
      "0  0.018208  \n",
      "   matchId_y  roundId_x  attackingTeamNumber  playerId assistants  victimId  \\\n",
      "0      71399    1111226                    2      1994         []    3582.0   \n",
      "\n",
      "     impact  \n",
      "0  0.001864  \n",
      "   matchId_y  roundId_x  attackingTeamNumber  playerId assistants  victimId  \\\n",
      "0      71399    1111226                    2      1994         []    3582.0   \n",
      "\n",
      "     impact  \n",
      "0  0.001864  \n",
      "   matchId_y  roundId_x  attackingTeamNumber  playerId assistants  victimId  \\\n",
      "0      71399    1111226                    2      3582         []     369.0   \n",
      "\n",
      "     impact  \n",
      "0  0.003528  \n",
      "   matchId_y  roundId_x  attackingTeamNumber  playerId assistants  victimId  \\\n",
      "0      71399    1111227                    2      3582         []    1990.0   \n",
      "\n",
      "     impact  \n",
      "0  0.000664  \n",
      "   matchId_y  roundId_x  attackingTeamNumber  playerId assistants  victimId  \\\n",
      "0      71399    1111227                    2       494         []     369.0   \n",
      "\n",
      "     impact  \n",
      "0  0.000439  \n",
      "   matchId_y  roundId_x  attackingTeamNumber  playerId assistants  victimId  \\\n",
      "0      71399    1111228                    2      1990         []    3062.0   \n",
      "\n",
      "     impact  \n",
      "0  0.039479  \n",
      "   matchId_y  roundId_x  attackingTeamNumber  playerId assistants  victimId  \\\n",
      "0      71399    1111228                    2       369         []    3062.0   \n",
      "\n",
      "     impact  \n",
      "0  0.039479  \n",
      "   matchId_y  roundId_x  attackingTeamNumber  playerId assistants  victimId  \\\n",
      "0      71399    1111228                    2       369         []    3582.0   \n",
      "\n",
      "     impact  \n",
      "0  0.055836  \n",
      "   matchId_y  roundId_x  attackingTeamNumber  playerId assistants  victimId  \\\n",
      "0      71399    1111228                    2       369         []     494.0   \n",
      "\n",
      "     impact  \n",
      "0  0.035053  \n",
      "   matchId_y  roundId_x  attackingTeamNumber  playerId assistants  victimId  \\\n",
      "0      71399    1111228                    2      1689         []     494.0   \n",
      "\n",
      "     impact  \n",
      "0  0.035053  \n",
      "   matchId_y  roundId_x  attackingTeamNumber  playerId assistants  victimId  \\\n",
      "0      71399    1111228                    2      3582         []     789.0   \n",
      "\n",
      "     impact  \n",
      "0  0.061575  \n",
      "   matchId_y  roundId_x  attackingTeamNumber  playerId assistants  victimId  \\\n",
      "0      71399    1111229                    2       369         []     494.0   \n",
      "\n",
      "     impact  \n",
      "0  0.069128  \n",
      "   matchId_y  roundId_x  attackingTeamNumber  playerId assistants  victimId  \\\n",
      "0      71399    1111230                    2       369         []    3346.0   \n",
      "\n",
      "     impact  \n",
      "0  0.025743  \n",
      "   matchId_y  roundId_x  attackingTeamNumber  playerId assistants  victimId  \\\n",
      "0      71399    1111230                    2      3582         []    1994.0   \n",
      "\n",
      "    impact  \n",
      "0  0.04853  \n",
      "   matchId_y  roundId_x  attackingTeamNumber  playerId assistants  victimId  \\\n",
      "0      71399    1111230                    2       369         []     494.0   \n",
      "\n",
      "    impact  \n",
      "0  0.05121  \n",
      "   matchId_y  roundId_x  attackingTeamNumber  playerId assistants  victimId  \\\n",
      "0      71399    1111231                    2      3582         []    1990.0   \n",
      "\n",
      "     impact  \n",
      "0  0.056359  \n",
      "   matchId_y  roundId_x  attackingTeamNumber  playerId assistants  victimId  \\\n",
      "0      71399    1111231                    2      1689         []    1802.0   \n",
      "\n",
      "     impact  \n",
      "0  0.010828  \n",
      "   matchId_y  roundId_x  attackingTeamNumber  playerId assistants  victimId  \\\n",
      "0      71399    1111231                    2      1990         []    1802.0   \n",
      "\n",
      "     impact  \n",
      "0  0.010828  \n",
      "   matchId_y  roundId_x  attackingTeamNumber  playerId assistants  victimId  \\\n",
      "0      71399    1111231                    2      1994         []    3582.0   \n",
      "\n",
      "     impact  \n",
      "0  0.013046  \n",
      "   matchId_y  roundId_x  attackingTeamNumber  playerId assistants  victimId  \\\n",
      "0      71399    1111231                    2       369         []    3582.0   \n",
      "\n",
      "     impact  \n",
      "0  0.013046  \n",
      "   matchId_y  roundId_x  attackingTeamNumber  playerId assistants  victimId  \\\n",
      "0      71399    1111232                    2      1990         []    3582.0   \n",
      "\n",
      "     impact  \n",
      "0  0.020458  \n",
      "   matchId_y  roundId_x  attackingTeamNumber  playerId assistants  victimId  \\\n",
      "0      71399    1111232                    2      3582         []     369.0   \n",
      "\n",
      "     impact  \n",
      "0  0.014013  \n",
      "   matchId_y  roundId_x  attackingTeamNumber  playerId assistants  victimId  \\\n",
      "0      71399    1111232                    2       369         []    3346.0   \n",
      "\n",
      "     impact  \n",
      "0  0.005471  \n",
      "   matchId_y  roundId_x  attackingTeamNumber  playerId assistants  victimId  \\\n",
      "0      71399    1111232                    2       789         []    3346.0   \n",
      "\n",
      "     impact  \n",
      "0  0.005471  \n",
      "   matchId_y  roundId_x  attackingTeamNumber  playerId assistants  victimId  \\\n",
      "0      71399    1111233                    2      3582         []    1994.0   \n",
      "\n",
      "     impact  \n",
      "0  0.029576  \n",
      "   matchId_y  roundId_x  attackingTeamNumber  playerId assistants  victimId  \\\n",
      "0      71399    1111233                    2       494         []    1994.0   \n",
      "\n",
      "     impact  \n",
      "0  0.029576  \n",
      "   matchId_y  roundId_x  attackingTeamNumber  playerId assistants  victimId  \\\n",
      "0      71399    1111233                    2      1689         []    3346.0   \n",
      "\n",
      "     impact  \n",
      "0  0.082037  \n",
      "   matchId_y  roundId_x  attackingTeamNumber  playerId assistants  victimId  \\\n",
      "0      71399    1111233                    2      3346         []     369.0   \n",
      "\n",
      "     impact  \n",
      "0  0.028106  \n",
      "   matchId_y  roundId_x  attackingTeamNumber  playerId assistants  victimId  \\\n",
      "0      71399    1111233                    2      3346         []     369.0   \n",
      "\n",
      "     impact  \n",
      "0  0.028106  \n",
      "   matchId_y  roundId_x  attackingTeamNumber  playerId assistants  victimId  \\\n",
      "0      71399    1111233                    2      3062         []    1990.0   \n",
      "\n",
      "     impact  \n",
      "0  0.020604  \n",
      "   matchId_y  roundId_x  attackingTeamNumber  playerId assistants  victimId  \\\n",
      "0      71399    1111234                    1      3346         []     369.0   \n",
      "\n",
      "     impact  \n",
      "0  0.005598  \n",
      "   matchId_y  roundId_x  attackingTeamNumber  playerId assistants  victimId  \\\n",
      "0      71399    1111234                    1      1802         []     369.0   \n",
      "\n",
      "     impact  \n",
      "0  0.005598  \n",
      "   matchId_y  roundId_x  attackingTeamNumber  playerId assistants  victimId  \\\n",
      "0      71399    1111234                    1      3346         []    1994.0   \n",
      "\n",
      "     impact  \n",
      "0  0.008931  \n",
      "   matchId_y  roundId_x  attackingTeamNumber  playerId assistants  victimId  \\\n",
      "0      71399    1111236                    1      1990         []    3062.0   \n",
      "\n",
      "     impact  \n",
      "0  0.029659  \n",
      "   matchId_y  roundId_x  attackingTeamNumber  playerId assistants  victimId  \\\n",
      "0      71399    1111236                    1      1990         []    3062.0   \n",
      "\n",
      "     impact  \n",
      "0  0.029659  \n",
      "   matchId_y  roundId_x  attackingTeamNumber  playerId assistants  victimId  \\\n",
      "0      71399    1111236                    1      3062         []     369.0   \n",
      "\n",
      "     impact  \n",
      "0  0.009386  \n",
      "   matchId_y  roundId_x  attackingTeamNumber  playerId assistants  victimId  \\\n",
      "0      71399    1111236                    1      3346         []     369.0   \n",
      "\n",
      "     impact  \n",
      "0  0.009386  \n",
      "   matchId_y  roundId_x  attackingTeamNumber  playerId assistants  victimId  \\\n",
      "0      71399    1111236                    1      3062         []    1689.0   \n",
      "\n",
      "     impact  \n",
      "0  0.031257  \n",
      "   matchId_y  roundId_x  attackingTeamNumber  playerId assistants  victimId  \\\n",
      "0      71399    1111237                    1       494         []    1990.0   \n",
      "\n",
      "     impact  \n",
      "0  0.028692  \n",
      "   matchId_y  roundId_x  attackingTeamNumber  playerId assistants  victimId  \\\n",
      "0      71399    1111237                    1      3062         []    1994.0   \n",
      "\n",
      "     impact  \n",
      "0  0.024375  \n",
      "   matchId_y  roundId_x  attackingTeamNumber  playerId assistants  victimId  \\\n",
      "0      71399    1111238                    1      3582         []     369.0   \n",
      "\n",
      "     impact  \n",
      "0  0.032403  \n",
      "   matchId_y  roundId_x  attackingTeamNumber  playerId assistants  victimId  \\\n",
      "0      71399    1111238                    1      3582         []     369.0   \n",
      "\n",
      "     impact  \n",
      "0  0.032403  \n",
      "   matchId_y  roundId_x  attackingTeamNumber  playerId assistants  victimId  \\\n",
      "0      71399    1111238                    1      1802         []    1689.0   \n",
      "\n",
      "     impact  \n",
      "0  0.033797  \n",
      "   matchId_y  roundId_x  attackingTeamNumber  playerId assistants  victimId  \\\n",
      "0      71399    1111238                    1      1990         []    1802.0   \n",
      "\n",
      "     impact  \n",
      "0  0.036399  \n",
      "   matchId_y  roundId_x  attackingTeamNumber  playerId assistants  victimId  \\\n",
      "0      71399    1111238                    1      1990         []    1802.0   \n",
      "\n",
      "     impact  \n",
      "0  0.036399  \n",
      "   matchId_y  roundId_x  attackingTeamNumber  playerId assistants  victimId  \\\n",
      "0      71399    1111238                    1      1802         []    1994.0   \n",
      "\n",
      "     impact  \n",
      "0  0.040338  \n"
     ]
    },
    {
     "name": "stderr",
     "output_type": "stream",
     "text": [
      "C:\\Users\\Renzjordan\\AppData\\Local\\Temp\\ipykernel_2584\\720036083.py:2: FutureWarning: The pandas.np module is deprecated and will be removed from pandas in a future version. Import numpy directly instead.\n",
      "  ass = pd.DataFrame(pd.np.empty((0, 8)))\n"
     ]
    }
   ],
   "source": [
    "#Create assistant impact dataframe\n",
    "ass = pd.DataFrame(pd.np.empty((0, 8)))\n",
    "ass.columns = playerImpact.columns.tolist()\n",
    "\n",
    "for i in range(0, len(playerImpact)):\n",
    "    for p in (json.loads(playerImpact.loc[playerImpact.index[0] + i, 'assistants'])):\n",
    "        # print(p)\n",
    "        row =  pd.DataFrame([{'matchId_y': playerImpact.loc[playerImpact.index[0]+i,'matchId_y'],\n",
    "         'roundId_x': playerImpact.loc[playerImpact.index[0]+i,'roundId_x'], \n",
    "         'attackingTeamNumber': playerImpact.loc[playerImpact.index[0]+i,'attackingTeamNumber'],\n",
    "         'playerId': p,\n",
    "         'assistants': [],\n",
    "         'victimId': playerImpact.loc[playerImpact.index[0]+i,'victimId'],\n",
    "         'impact': playerImpact.loc[playerImpact.index[0]+i,'impact_assist']}])\n",
    "        ass = pd.concat([ass, row])\n",
    "        print(row)\n",
    "\n",
    "ass['impact_assist'] = 0\n"
   ]
  },
  {
   "cell_type": "code",
   "execution_count": 154,
   "metadata": {},
   "outputs": [
    {
     "name": "stdout",
     "output_type": "stream",
     "text": [
      "   playerId    impact  Player Id        Ign       Team\n",
      "6    1994.0  1.019160       1994    supamen  FaZe Clan\n",
      "0     369.0  0.925937        369    BABYBAY  FaZe Clan\n",
      "8    3346.0  0.827863       3346        BcJ       XSET\n",
      "1     494.0  0.232034        494      dephh       XSET\n",
      "4    1802.0  0.175906       1802  Cryocells       XSET\n",
      "7    3062.0  0.027934       3062      AYRIN       XSET\n",
      "2     789.0 -0.143541        789      dicey  FaZe Clan\n",
      "3    1689.0 -0.580606       1689      flyuh  FaZe Clan\n",
      "5    1990.0 -0.999402       1990     poised  FaZe Clan\n",
      "9    3582.0 -1.064430       3582     zekken       XSET\n"
     ]
    }
   ],
   "source": [
    "#Impact by match\n",
    "gA = ass.groupby(['playerId'])['impact'].sum().reset_index()\n",
    "\n",
    "gP = playerImpact.groupby(['playerId'])['impact'].sum().reset_index()\n",
    "\n",
    "\n",
    "gAR = ass.groupby(['playerId','roundId_x',])['impact'].sum().reset_index()\n",
    "gPR = playerImpact.groupby(['playerId','roundId_x'])['impact'].sum().reset_index()\n",
    "\n",
    "\n",
    "gPR['impact'] = gPR['impact'] \n",
    "# print(gPR.loc[gPR['playerId'] == 369])\n",
    "# print(gP.loc[gP['playerId'] == 369])\n",
    "\n",
    "# print(gVR.loc[gVR['victimId'] == 1994])\n",
    "\n",
    "gVRCompare = pd.concat([gVR.loc[gVR['victimId'] == 369], gVR.loc[gVR['victimId'] == 1994]])\n",
    "# print((gVRCompare))\n",
    "\n",
    "\n",
    "\n",
    "gP['impact'] = gP['impact'] + gA['impact'] - gVM['impact']\n",
    "\n",
    "gP = pd.merge(gP, playerNames, how='left', left_on = 'playerId', right_on = 'Player Id')\n",
    "\n",
    "# gVRCompare.to_csv(r\"C:\\Users\\Renzjordan\\OneDrive\\MiniProj\\VALImpact\\data\\BABYBAYSUCKSHUH.csv\", index=False)\n",
    "\n",
    "\n",
    "print(gP.sort_values('impact', ascending=False))"
   ]
  },
  {
   "cell_type": "code",
   "execution_count": null,
   "metadata": {},
   "outputs": [],
   "source": []
  }
 ],
 "metadata": {
  "kernelspec": {
   "display_name": "Python 3 (ipykernel)",
   "language": "python",
   "name": "python3"
  },
  "language_info": {
   "codemirror_mode": {
    "name": "ipython",
    "version": 3
   },
   "file_extension": ".py",
   "mimetype": "text/x-python",
   "name": "python",
   "nbconvert_exporter": "python",
   "pygments_lexer": "ipython3",
   "version": "3.9.12"
  },
  "vscode": {
   "interpreter": {
    "hash": "4bda74b9d9e0e093a14b7393307e09b2a666b2076b3134b3699cee8adadb15fa"
   }
  }
 },
 "nbformat": 4,
 "nbformat_minor": 2
}
