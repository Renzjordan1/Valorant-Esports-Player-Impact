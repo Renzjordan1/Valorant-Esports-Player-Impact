{
 "cells": [
  {
   "cell_type": "code",
   "execution_count": 8,
   "metadata": {},
   "outputs": [],
   "source": [
    "from matplotlib.axis import YAxis\n",
    "import pandas as pd\n",
    "from sklearn.feature_selection import RFE\n",
    "from sklearn.linear_model import LogisticRegression\n",
    "from sklearn.model_selection import train_test_split\n",
    "from sklearn import metrics\n",
    "import numpy as np\n",
    "import matplotlib.pyplot as plt\n",
    "import math\n",
    "import json\n",
    "import pickle"
   ]
  },
  {
   "cell_type": "code",
   "execution_count": 9,
   "metadata": {},
   "outputs": [],
   "source": [
    "#Import Scraped rib.gg Data\n",
    "df = pd.read_csv(\"../Amer-VCT-Spring2023/data/EventEssentials+Players.csv\")\n",
    "\n",
    "#Can import your own training or testing data."
   ]
  },
  {
   "cell_type": "code",
   "execution_count": 10,
   "metadata": {},
   "outputs": [],
   "source": [
    "#Set Attack Team Win as target variable\n",
    "df['ATKWin'] = 0\n",
    "for i in range(0, len(df)):\n",
    "\n",
    "    if(df.loc[i, 'attackingTeamNumber'] == df.loc[i, 'winningTeamNumber']):\n",
    "        df.loc[i, 'ATKWin'] = 1"
   ]
  },
  {
   "cell_type": "code",
   "execution_count": 11,
   "metadata": {},
   "outputs": [],
   "source": [
    "#Seperate Independent and Dependent Variables\n",
    "indVars = df.drop(columns=['roundId_x', 'attackingTeamNumber', 'winningTeamNumber','ATKWin', 'playerId', 'assistants', 'victimId'])\n",
    "depVar = df[['matchId_y', 'ATKWin']]"
   ]
  },
  {
   "cell_type": "code",
   "execution_count": 12,
   "metadata": {},
   "outputs": [],
   "source": [
    "#Load log reg model or skip to create new model. Can skip to the cell that creates testing set.\n",
    "with open('impactModel.pkl', 'rb') as f:\n",
    "    logreg = pickle.load(f)"
   ]
  },
  {
   "cell_type": "code",
   "execution_count": null,
   "metadata": {},
   "outputs": [],
   "source": [
    "start_test_matchId = 112510\n",
    "\n",
    "#Train on group stage\n",
    "X_train = indVars[indVars['matchId_y'] < start_test_matchId].drop(columns=['matchId_y'])\n",
    "Y_train = depVar[depVar['matchId_y'] < start_test_matchId].drop(columns=['matchId_y'])\n"
   ]
  },
  {
   "cell_type": "code",
   "execution_count": null,
   "metadata": {},
   "outputs": [],
   "source": [
    "#do Logisistic Regression\n",
    "logreg = LogisticRegression()\n",
    "logreg.fit(X_train, Y_train.values.ravel())"
   ]
  },
  {
   "cell_type": "code",
   "execution_count": null,
   "metadata": {},
   "outputs": [],
   "source": [
    "#Save the log reg model for later use\n",
    "with open('impactModel.pkl','wb') as f:\n",
    "    pickle.dump(logreg, f)"
   ]
  },
  {
   "cell_type": "code",
   "execution_count": 14,
   "metadata": {},
   "outputs": [],
   "source": [
    "start_test_matchId = 112510\n",
    "\n",
    "#Test on playoffs\n",
    "X_test = indVars[indVars['matchId_y'] >= start_test_matchId].drop(columns=['matchId_y'])\n",
    "X_test_MatchID = indVars[indVars['matchId_y'] >= start_test_matchId].drop_duplicates(subset=['matchId_y'])\n",
    "y_test = depVar[depVar['matchId_y'] >= start_test_matchId].drop(columns=['matchId_y'])"
   ]
  },
  {
   "cell_type": "code",
   "execution_count": 15,
   "metadata": {},
   "outputs": [
    {
     "name": "stdout",
     "output_type": "stream",
     "text": [
      "5383\n"
     ]
    }
   ],
   "source": [
    "#Get probability of [ATKWin=0, ATKWin=1]\n",
    "y_pred=logreg.predict_proba(X_test)\n",
    "\n",
    "print(len(y_pred))"
   ]
  },
  {
   "cell_type": "code",
   "execution_count": 16,
   "metadata": {},
   "outputs": [],
   "source": [
    "#Transform Bomb Time from (100000 to -450000) -> (0 to 1)\n",
    "def NormalizeData(data):\n",
    "    # return (data - np.max(data)) / (np.min(data) - np.max(data))\n",
    "    return (data - np.max(data)) / (-45000 - np.max(data))"
   ]
  },
  {
   "cell_type": "code",
   "execution_count": 17,
   "metadata": {},
   "outputs": [
    {
     "name": "stdout",
     "output_type": "stream",
     "text": [
      "{114166: [0, 108, 213], 114165: [214, 320, 436], 114164: [437, 541, 618], 114172: [619, 732, 778], 114171: [779, 887, 988], 114170: [989, 1088, 1163], 114169: [1164, 1264, 1364], 114174: [1365, 1483, 1605], 113981: [1606, 1712, 1799], 113980: [1800, 1899, 1993], 113507: [1994, 2103, 2144], 113506: [2145, 2246, 2358], 113505: [2359, 2469, 2568], 113166: [2569, 2678, 2724], 113165: [2725, 2839, 2936], 113164: [2937, 3040, 3116], 113168: [3117, 3221, 3308], 113167: [3309, 3418, 3493], 112520: [3494, 3598, 3620], 112519: [3621, 3728, 3778], 112517: [3779, 3882, 3930], 112516: [3931, 4030, 4079], 112515: [4080, 4185, 4253], 112514: [4254, 4356, 4503], 112513: [4504, 4608, 4712], 112512: [4713, 4820, 4888], 112511: [4889, 4996, 5236], 112510: [5237, 5336, 5382]}\n"
     ]
    }
   ],
   "source": [
    "#get list of halftimes\n",
    "halftimes = {}\n",
    "\n",
    "for i in X_test_MatchID.matchId_y:\n",
    "\n",
    "    #Set X-axis for graph (round + event time)\n",
    "    xAx = df[df['matchId_y'] == i]['roundId_x'] - df[df['matchId_y'] == i]['roundId_x'][df[df['matchId_y'] == i].index[0]] + 1 + NormalizeData(df[df['matchId_y'] == i]['roundTime'])\n",
    "\n",
    "    #Find index of round 13\n",
    "    halftime = xAx.loc[xAx==13].index[0] \n",
    "    firstRound = xAx.loc[xAx==1].index[0] \n",
    "    lastRound = xAx.last_valid_index()\n",
    "\n",
    "    halftimes[i] = [firstRound, halftime, lastRound]\n",
    "\n",
    "\n",
    "print(halftimes)\n",
    "# print(df.iloc[2354:2366])\n",
    "\n"
   ]
  },
  {
   "cell_type": "code",
   "execution_count": 18,
   "metadata": {},
   "outputs": [
    {
     "name": "stdout",
     "output_type": "stream",
     "text": [
      "5383\n"
     ]
    }
   ],
   "source": [
    "#Get probabilities for home team\n",
    "yAx = []\n",
    "for i in X_test_MatchID.matchId_y:\n",
    "\n",
    "    firstRound = halftimes[i][0]\n",
    "    halftime = halftimes[i][1]\n",
    "    lastRound = halftimes[i][2]\n",
    "\n",
    "    #Match prediction with the respective sides\n",
    "    if(df[df['matchId_y'] == i].iloc[0]['attackingTeamNumber'] == 1):\n",
    "        firstHalf = [item[1] for item in y_pred[firstRound:halftime]]\n",
    "        secHalf = [item[0] for item in y_pred[halftime:lastRound+1]]\n",
    "    else:\n",
    "        firstHalf = [item[0] for item in y_pred[firstRound:halftime]]\n",
    "        secHalf = [item[1] for item in y_pred[halftime:lastRound+1]]\n",
    "\n",
    "    #Set y-axis for graph (Win probs)\n",
    "    full = firstHalf + secHalf\n",
    "    yAx += full\n",
    "\n",
    "\n",
    "# print(yAx[0:30])\n",
    "print(len(yAx))\n"
   ]
  },
  {
   "cell_type": "code",
   "execution_count": 19,
   "metadata": {},
   "outputs": [
    {
     "name": "stdout",
     "output_type": "stream",
     "text": [
      "5383\n"
     ]
    }
   ],
   "source": [
    "#Create impact df\n",
    "playerImpact = df[['matchId_y', 'roundId_x', 'attackingTeamNumber', 'playerId', 'assistants', 'victimId']]\n",
    "playerImpact = playerImpact[playerImpact['matchId_y'] >= start_test_matchId]\n",
    "playerImpact['impact'] = 0\n",
    "\n",
    "print(len(playerImpact))\n"
   ]
  },
  {
   "cell_type": "code",
   "execution_count": 20,
   "metadata": {},
   "outputs": [],
   "source": [
    "#Calculate impact for each player\n",
    "for i in range(0, len(playerImpact)):\n",
    "    \n",
    "    matchId = playerImpact.loc[playerImpact.index[0]+i, 'matchId_y']\n",
    "    playerId = playerImpact.loc[playerImpact.index[0]+i, 'playerId'] \n",
    "\n",
    "    #Impact is change in win prob\n",
    "    if(not math.isnan(playerId)):\n",
    "        playerImpact.loc[playerImpact.index[0]+i, 'impact'] = abs(yAx[i]-yAx[i-1])\n",
    "    \n",
    "    else:\n",
    "        pass"
   ]
  },
  {
   "cell_type": "code",
   "execution_count": 21,
   "metadata": {},
   "outputs": [],
   "source": [
    "#Get player info (Used rib.gg Discord bot to get data)\n",
    "playerNames = pd.read_csv(\"../Amer-VCT-Spring2023/data/AllPlayers.csv\")"
   ]
  },
  {
   "cell_type": "code",
   "execution_count": 22,
   "metadata": {},
   "outputs": [
    {
     "name": "stdout",
     "output_type": "stream",
     "text": [
      "   victimId     impact\n",
      "0      81.0  15.822778\n",
      "1     165.0  29.458823\n",
      "2     440.0  11.425130\n",
      "3    1023.0  24.174025\n",
      "4    1506.0  15.768590\n",
      "5    2423.0  13.615445\n",
      "6    2483.0  29.816493\n",
      "7    2749.0  12.144943\n",
      "8    2752.0  13.321170\n",
      "9    2841.0  29.858479\n"
     ]
    }
   ],
   "source": [
    "#gVR = Victim impact by round, gVM = Victim impact by match \n",
    "gVR = playerImpact.groupby(['roundId_x', 'victimId'])['impact'].sum().reset_index()\n",
    "gVM = playerImpact.groupby(['victimId'])['impact'].sum().reset_index()\n",
    "\n",
    "print(gVM.head(10))"
   ]
  },
  {
   "cell_type": "code",
   "execution_count": 23,
   "metadata": {},
   "outputs": [],
   "source": [
    "#Getting impact for assistants\n",
    "playerImpact['impact_assist'] = 0\n",
    "\n",
    "for i in range(0, len(playerImpact)):\n",
    "\n",
    "    if(len(json.loads(playerImpact.loc[playerImpact.index[0] + i, 'assistants'])) > 0):\n",
    "\n",
    "        #Split total impact between all assistants and main player\n",
    "        playerImpact.loc[playerImpact.index[0]+i,'impact_assist'] = playerImpact.loc[playerImpact.index[0] + i, 'impact'] * (0.2 / len(json.loads(playerImpact.loc[playerImpact.index[0] + i, 'assistants'])))\n",
    "        playerImpact.loc[playerImpact.index[0]+i,'impact'] -= playerImpact.loc[playerImpact.index[0] + i, 'impact'] * (0.2)"
   ]
  },
  {
   "cell_type": "code",
   "execution_count": 24,
   "metadata": {},
   "outputs": [
    {
     "name": "stderr",
     "output_type": "stream",
     "text": [
      "C:\\Users\\Renzjordan\\AppData\\Local\\Temp\\ipykernel_12908\\1285282499.py:2: FutureWarning: The pandas.np module is deprecated and will be removed from pandas in a future version. Import numpy directly instead.\n",
      "  ass = pd.DataFrame(pd.np.empty((0, 8)))\n"
     ]
    }
   ],
   "source": [
    "#Create assistant impact dataframe\n",
    "ass = pd.DataFrame(pd.np.empty((0, 8)))\n",
    "ass.columns = playerImpact.columns.tolist()\n",
    "\n",
    "for i in range(0, len(playerImpact)):\n",
    "\n",
    "    for p in (json.loads(playerImpact.loc[playerImpact.index[0] + i, 'assistants'])):\n",
    "\n",
    "        # print(p)\n",
    "        row =  pd.DataFrame([{'matchId_y': playerImpact.loc[playerImpact.index[0]+i,'matchId_y'],\n",
    "         'roundId_x': playerImpact.loc[playerImpact.index[0]+i,'roundId_x'], \n",
    "         'attackingTeamNumber': playerImpact.loc[playerImpact.index[0]+i,'attackingTeamNumber'],\n",
    "         'playerId': p,\n",
    "         'assistants': [],\n",
    "         'victimId': playerImpact.loc[playerImpact.index[0]+i,'victimId'],\n",
    "         'impact': playerImpact.loc[playerImpact.index[0]+i,'impact_assist']}])\n",
    "        \n",
    "        ass = pd.concat([ass, row])\n",
    "\n",
    "        # print(row)\n",
    "\n",
    "ass['impact_assist'] = 0\n"
   ]
  },
  {
   "cell_type": "code",
   "execution_count": 25,
   "metadata": {},
   "outputs": [
    {
     "name": "stdout",
     "output_type": "stream",
     "text": [
      "|    |   playerId |     impact |   Player Id | Ign       | Team          |\n",
      "|---:|-----------:|-----------:|------------:|:----------|:--------------|\n",
      "|  1 |        165 |  6.06511   |         165 | s0m       | NRG Esports   |\n",
      "| 18 |       4746 |  5.91365   |        4746 | Less      | LOUD          |\n",
      "|  2 |        440 |  5.2216    |         440 | Zellsis   | Cloud9        |\n",
      "| 24 |      10253 |  4.64193   |       10253 | Ethan     | Evil Geniuses |\n",
      "| 23 |       6414 |  4.32535   |        6414 | kiNgg     | Leviatán      |\n",
      "|  6 |       2483 |  3.75306   |        2483 | crashies  | NRG Esports   |\n",
      "| 29 |      23845 |  3.32429   |       23845 | Demon1    | Evil Geniuses |\n",
      "|  7 |       2749 |  2.40433   |        2749 | Khalil    | FURIA         |\n",
      "| 11 |       2895 |  2.21063   |        2895 | Saadhak   | LOUD          |\n",
      "| 10 |       2882 |  1.96406   |        2882 | C0M       | Evil Geniuses |\n",
      "| 25 |      13591 |  1.8521    |       13591 | Xeppaa    | Cloud9        |\n",
      "|  5 |       2423 |  1.33374   |        2423 | Quick     | FURIA         |\n",
      "| 27 |      16804 |  1.28194   |       16804 | cauanzin  | LOUD          |\n",
      "| 28 |      21588 |  0.723829  |       21588 | Shyy      | Leviatán      |\n",
      "| 12 |       3043 |  0.715818  |        3043 | ardiis    | NRG Esports   |\n",
      "| 22 |       6039 |  0.337629  |        6039 | mazin     | FURIA         |\n",
      "|  8 |       2752 | -0.0586891 |        2752 | Nozwerr   | Leviatán      |\n",
      "| 26 |      15282 | -0.551729  |       15282 | runi      | Cloud9        |\n",
      "| 21 |       6038 | -0.636648  |        6038 | dgzin     | FURIA         |\n",
      "| 20 |       5582 | -0.666042  |        5582 | jakee     | Cloud9        |\n",
      "|  4 |       1506 | -0.96137   |        1506 | tuyz      | LOUD          |\n",
      "| 13 |       3211 | -1.04306   |        3211 | Victor    | NRG Esports   |\n",
      "| 14 |       3532 | -1.05077   |        3532 | Tacolilla | Leviatán      |\n",
      "| 19 |       4748 | -1.24084   |        4748 | aspas     | LOUD          |\n",
      "| 16 |       4157 | -2.00948   |        4157 | jawgemo   | Evil Geniuses |\n",
      "|  3 |       1023 | -2.22003   |        1023 | Boostio   | Evil Geniuses |\n",
      "|  0 |         81 | -2.42685   |          81 | mwzera    | FURIA         |\n",
      "| 15 |       3599 | -3.27373   |        3599 | leaf      | Cloud9        |\n",
      "| 17 |       4710 | -3.62405   |        4710 | Mazino    | Leviatán      |\n",
      "|  9 |       2841 | -4.80664   |        2841 | FiNESSE   | NRG Esports   |\n"
     ]
    }
   ],
   "source": [
    "#Impact in playoffs\n",
    "\n",
    "#gA = Total impact with assists\n",
    "gA = ass.groupby(['playerId'])['impact'].sum().reset_index()\n",
    "\n",
    "#gP = Total impact as main player\n",
    "gP = playerImpact.groupby(['playerId'])['impact'].sum().reset_index()\n",
    "\n",
    "#Total impact = Main impact + Assist Impact - Victim Impact\n",
    "gP['impact'] = gP['impact'] + gA['impact'] - gVM['impact']\n",
    "\n",
    "#Add player names to the total impact df\n",
    "gP = pd.merge(gP, playerNames, how='left', left_on = 'playerId', right_on = 'Player Id')\n",
    "\n",
    "\n",
    "print(gP.sort_values('impact', ascending=False).to_markdown())"
   ]
  }
 ],
 "metadata": {
  "kernelspec": {
   "display_name": "base",
   "language": "python",
   "name": "python3"
  },
  "language_info": {
   "codemirror_mode": {
    "name": "ipython",
    "version": 3
   },
   "file_extension": ".py",
   "mimetype": "text/x-python",
   "name": "python",
   "nbconvert_exporter": "python",
   "pygments_lexer": "ipython3",
   "version": "3.9.12"
  },
  "orig_nbformat": 4,
  "vscode": {
   "interpreter": {
    "hash": "4bda74b9d9e0e093a14b7393307e09b2a666b2076b3134b3699cee8adadb15fa"
   }
  }
 },
 "nbformat": 4,
 "nbformat_minor": 2
}
